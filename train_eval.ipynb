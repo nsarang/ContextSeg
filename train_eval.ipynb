{
 "cells": [
  {
   "cell_type": "markdown",
   "metadata": {
    "colab_type": "text",
    "heading_collapsed": true,
    "id": "o0_glK0uNAyZ"
   },
   "source": [
    "## Setup"
   ]
  },
  {
   "cell_type": "code",
   "execution_count": null,
   "metadata": {
    "ExecuteTime": {
     "end_time": "2019-08-03T14:44:44.098258Z",
     "start_time": "2019-08-03T14:44:44.092798Z"
    },
    "colab": {
     "base_uri": "https://localhost:8080/",
     "height": 34
    },
    "colab_type": "code",
    "executionInfo": {
     "elapsed": 5272,
     "status": "ok",
     "timestamp": 1562346790378,
     "user": {
      "displayName": "Nima Sarang",
      "photoUrl": "https://lh6.googleusercontent.com/-B44uavoHkTg/AAAAAAAAAAI/AAAAAAAAAE0/E3Xor3bNvQY/s64/photo.jpg",
      "userId": "02047349543665182217"
     },
     "user_tz": -270
    },
    "hidden": true,
    "id": "Pn5nuFOQuyeu",
    "outputId": "8ed71e73-651d-467c-a6ae-1fbe5a463ef0"
   },
   "outputs": [],
   "source": [
    "# Google Colab setup\n",
    "# Ignore if you're not running on colabx\n",
    "\n",
    "GDRIVE_PWD = 'ContextSeg'\n",
    "\n",
    "try:\n",
    "    from google.colab import drive\n",
    "    import os\n",
    "    IN_COLAB = True\n",
    "except:\n",
    "    IN_COLAB = False\n",
    "    \n",
    "if IN_COLAB:\n",
    "    drive.mount('/content/gdrive', force_remount=True)\n",
    "    root_dir = \"/content/gdrive/My Drive/\"\n",
    "    base_dir = os.path.join(root_dir, GDRIVE_PWD)\n",
    "    \n",
    "    if not os.path.exists(base_dir):\n",
    "        os.makedirs(base_dir)\n",
    "    os.chdir(base_dir)"
   ]
  },
  {
   "cell_type": "code",
   "execution_count": null,
   "metadata": {
    "ExecuteTime": {
     "end_time": "2019-08-03T14:44:45.384588Z",
     "start_time": "2019-08-03T14:44:45.379804Z"
    },
    "colab": {},
    "colab_type": "code",
    "hidden": true,
    "id": "sHwEv-0MgYBI"
   },
   "outputs": [],
   "source": [
    "import os\n",
    "\n",
    "P_DATA = 'data'\n",
    "P_SAVEDMODEL = 'models/checkpoints'\n",
    "P_LOGS = 'logs'\n",
    "P_OUTPUT = 'output'\n",
    "\n",
    "dirs = [P_DATA, P_SAVEDMODEL, P_LOGS, P_OUTPUT]\n",
    "\n",
    "for d in dirs:\n",
    "    if not os.path.exists(d):\n",
    "        os.makedirs(d)"
   ]
  },
  {
   "cell_type": "code",
   "execution_count": null,
   "metadata": {
    "ExecuteTime": {
     "end_time": "2019-08-03T14:45:05.457833Z",
     "start_time": "2019-08-03T14:45:05.372803Z"
    },
    "colab": {
     "base_uri": "https://localhost:8080/",
     "height": 34
    },
    "colab_type": "code",
    "executionInfo": {
     "elapsed": 3272,
     "status": "ok",
     "timestamp": 1562346794269,
     "user": {
      "displayName": "Nima Sarang",
      "photoUrl": "https://lh6.googleusercontent.com/-B44uavoHkTg/AAAAAAAAAAI/AAAAAAAAAE0/E3Xor3bNvQY/s64/photo.jpg",
      "userId": "02047349543665182217"
     },
     "user_tz": -270
    },
    "hidden": true,
    "id": "yYMw0NuYKzmw",
    "outputId": "a1c4588d-d6d2-4c1e-8b22-978e27371aca"
   },
   "outputs": [],
   "source": [
    "%reload_ext autoreload\n",
    "%autoreload 2\n",
    "%matplotlib inline\n",
    "\n",
    "import keras\n",
    "from keras import backend as K\n",
    "import numpy as np\n",
    "import os\n",
    "import h5py\n",
    "import matplotlib.pylab as plt\n",
    "from models.ContextSeg import ContextSeg\n",
    "from utils.colormap import label_defs\n",
    "from data_loader.data_generator import DataGenerator"
   ]
  },
  {
   "cell_type": "code",
   "execution_count": null,
   "metadata": {
    "ExecuteTime": {
     "end_time": "2019-08-03T14:45:32.827315Z",
     "start_time": "2019-08-03T14:45:32.761986Z"
    },
    "colab": {},
    "colab_type": "code",
    "hidden": true,
    "id": "x7giFo0WgYmA"
   },
   "outputs": [],
   "source": [
    "# os.environ['KMP_DUPLICATE_LIB_OK']='True'\n",
    "# K.tensorflow_backend._get_available_gpus()"
   ]
  },
  {
   "cell_type": "code",
   "execution_count": null,
   "metadata": {
    "ExecuteTime": {
     "end_time": "2019-08-03T14:45:35.087166Z",
     "start_time": "2019-08-03T14:45:35.019386Z"
    },
    "colab": {},
    "colab_type": "code",
    "hidden": true,
    "id": "6oA63JSYsGYd"
   },
   "outputs": [],
   "source": [
    "DATASET = os.path.join(P_DATA, 'cihp_dataset.h5')\n",
    "MODEL_SAVE_PATH = os.path.join(P_SAVEDMODEL, # path to save the model\n",
    "                               'dweights.{epoch:02d}-{val_acc:.2f}.hdf5')\n",
    "\n",
    "INPUT_SHAPE = (320, 320, 3)\n",
    "BATCH_SIZE = 8\n",
    "NUM_CLASSES = 20\n",
    "EPOCHS = 80"
   ]
  },
  {
   "cell_type": "code",
   "execution_count": null,
   "metadata": {
    "ExecuteTime": {
     "end_time": "2019-07-07T20:05:17.508571Z",
     "start_time": "2019-07-07T20:05:17.476825Z"
    },
    "colab": {},
    "colab_type": "code",
    "hidden": true,
    "id": "cshvARiauj90"
   },
   "outputs": [],
   "source": [
    "# create hdf5 dataset from tar file\n",
    "# from utils.create_hdf5 import create_hdf5\n",
    "\n",
    "# create_hdf5('instance-level_human_parsing.tar.gz', DATASET)"
   ]
  },
  {
   "cell_type": "markdown",
   "metadata": {
    "colab_type": "text",
    "heading_collapsed": true,
    "id": "uHeWOVxJCh0x"
   },
   "source": [
    "## Train"
   ]
  },
  {
   "cell_type": "code",
   "execution_count": null,
   "metadata": {
    "ExecuteTime": {
     "end_time": "2019-07-10T11:18:17.532745Z",
     "start_time": "2019-07-10T11:18:17.484928Z"
    },
    "colab": {},
    "colab_type": "code",
    "hidden": true,
    "id": "vhqY-86T2JxS"
   },
   "outputs": [],
   "source": [
    "hf = h5py.File(DATASET, 'r', libver='latest', swmr=True)\n",
    "\n",
    "seed=1\n",
    "datagen_args = dict(\n",
    "    rotation_range=20,\n",
    "    width_shift_range=0.05,\n",
    "    height_shift_range=0.05,\n",
    "    brightness_range=[0.7, 1.4],\n",
    "    shear_range=0.05,\n",
    "    channel_shift_range=30,\n",
    "    horizontal_flip=True,\n",
    "    rescale=1/255,\n",
    "    fill_mode='reflect'\n",
    ")\n",
    "\n",
    "\n",
    "train_generator = DataGenerator(\n",
    "    hf['x_train'], y=hf['y_train'], datagen_args=datagen_args,\n",
    "    input_dim=INPUT_SHAPE, batch_size=BATCH_SIZE,\n",
    "    colormap=label_defs, seed=seed)\n",
    "\n",
    "val_generator = DataGenerator(\n",
    "    hf['x_val'], y=hf['y_val'], datagen_args=datagen_args,\n",
    "    input_dim=INPUT_SHAPE, batch_size=BATCH_SIZE,\n",
    "    colormap=label_defs, seed=seed)\n",
    "\n",
    "test_generator = DataGenerator(\n",
    "    hf['x_test'], datagen_args=datagen_args,\n",
    "    input_dim=INPUT_SHAPE, batch_size=BATCH_SIZE,\n",
    "    colormap=label_defs, seed=seed)"
   ]
  },
  {
   "cell_type": "code",
   "execution_count": null,
   "metadata": {
    "ExecuteTime": {
     "end_time": "2019-07-10T11:18:25.165866Z",
     "start_time": "2019-07-10T11:18:18.790797Z"
    },
    "colab": {},
    "colab_type": "code",
    "hidden": true,
    "id": "OmGYadCQl7-a",
    "scrolled": true
   },
   "outputs": [],
   "source": [
    "model = ContextSeg(INPUT_SHAPE, NUM_CLASSES)\n",
    "\n",
    "opt = keras.optimizers.RMSprop(lr=5e-5, rho=0.9, epsilon=1e-08, decay=0.0)\n",
    "model.compile(loss='categorical_crossentropy',\n",
    "              optimizer=opt,\n",
    "              metrics=['accuracy'])"
   ]
  },
  {
   "cell_type": "code",
   "execution_count": null,
   "metadata": {
    "ExecuteTime": {
     "end_time": "2019-07-10T11:04:13.507143Z",
     "start_time": "2019-07-10T11:04:13.270927Z"
    },
    "colab": {},
    "colab_type": "code",
    "hidden": true,
    "id": "b4bn8A8zCzew"
   },
   "outputs": [],
   "source": [
    "modelchk = keras.callbacks.ModelCheckpoint(MODEL_SAVE_PATH, \n",
    "                                      monitor='val_loss', \n",
    "                                      verbose=1,\n",
    "                                      save_best_only=True, \n",
    "                                      save_weights_only=False,\n",
    "                                      mode='auto',\n",
    "                                      period=3)\n",
    "\n",
    "tensorboard = keras.callbacks.TensorBoard(log_dir=P_LOGS,\n",
    "                                          histogram_freq=0,\n",
    "                                          write_graph=True,\n",
    "                                          write_images=True)\n",
    "\n",
    "csv_logger = keras.callbacks.CSVLogger(os.path.join(P_LOGS, 'keras_log.csv'),\n",
    "                                       append=True)"
   ]
  },
  {
   "cell_type": "code",
   "execution_count": null,
   "metadata": {
    "ExecuteTime": {
     "end_time": "2019-06-29T18:14:18.525826Z",
     "start_time": "2019-06-29T18:14:14.697947Z"
    },
    "colab": {
     "base_uri": "https://localhost:8080/",
     "height": 509
    },
    "colab_type": "code",
    "executionInfo": {
     "elapsed": 61120,
     "status": "error",
     "timestamp": 1562346883836,
     "user": {
      "displayName": "Nima Sarang",
      "photoUrl": "https://lh6.googleusercontent.com/-B44uavoHkTg/AAAAAAAAAAI/AAAAAAAAAE0/E3Xor3bNvQY/s64/photo.jpg",
      "userId": "02047349543665182217"
     },
     "user_tz": -270
    },
    "hidden": true,
    "id": "E28QXIuFCrNo",
    "outputId": "6e4cf185-cd90-48ff-bdfb-0e39d385a5b6",
    "scrolled": true
   },
   "outputs": [],
   "source": [
    "model.fit_generator(train_generator,\n",
    "                    epochs=EPOCHS,\n",
    "                    verbose=1,\n",
    "                    validation_data=val_generator,\n",
    "                    callbacks=[modelchk, tensorboard, csv_logger],\n",
    "                    workers=8)"
   ]
  },
  {
   "cell_type": "markdown",
   "metadata": {
    "colab_type": "text",
    "heading_collapsed": true,
    "id": "t8hwARb7-st0"
   },
   "source": [
    "## Evaluation"
   ]
  },
  {
   "cell_type": "code",
   "execution_count": null,
   "metadata": {
    "colab": {},
    "colab_type": "code",
    "hidden": true,
    "id": "Cdd0D8-cJF6z"
   },
   "outputs": [],
   "source": [
    "import seaborn as sns\n",
    "import numpy as np\n",
    "\n",
    "plt.style.use('ggplot')\n",
    "\n",
    "\n",
    "def plot2D(points, title, labelX, labelY, legends=None, save=None):\n",
    "    plt.plot(points[0],'r')\n",
    "    plt.plot(points[1],'g')\n",
    "    plt.xlabel(labelX, fontsize=11)\n",
    "    plt.ylabel(labelY, fontsize=11)\n",
    "    plt.title(title, fontname=\"Comic Sans MS Bold\", fontsize=14)\n",
    "    plt.legend(legends)\n",
    "    # plt.rcParams['figure.figsize'] = (7, 5)\n",
    "    if save:\n",
    "        plt.savefig(save)\n",
    "    plt.show()\n",
    "    \n",
    "    \n",
    "def evalModel(history, save=None):\n",
    "    h = history\n",
    "    if save:\n",
    "      sv1 = os.path.join(P_PLOT, save + '_loss.png')\n",
    "      sv2 = os.path.join(P_PLOT, save + '_acc.png')\n",
    "    else:\n",
    "      sv1, sv2 = None, None\n",
    "      \n",
    "    \n",
    "    plt.figure(0)\n",
    "    plot2D((h['loss'], h['val_loss']), 'Training and validation loss',\n",
    "           'Epochs', 'Loss', ['train', 'val'], save=sv1)\n",
    "    \n",
    "    plt.figure(1)\n",
    "    plot2D((h['acc'], h['val_acc']), 'Training and validation accuracy',\n",
    "           'Epochs', 'Accuracy', ['train', 'val'], save=sv2)\n",
    "    "
   ]
  },
  {
   "cell_type": "code",
   "execution_count": null,
   "metadata": {
    "colab": {},
    "colab_type": "code",
    "hidden": true,
    "id": "7qXgfyzQ-wIr"
   },
   "outputs": [],
   "source": [
    "\n",
    "from glob import glob\n",
    "import data_processing as dp\n",
    "\n",
    "output_dir='pred/'\n",
    "test_dir='data/test/Images'\n",
    "image_shape = (384, 512, 3)\n",
    "target_shape =(48, 64)\n",
    "batch_size=8\n",
    "num_classes=20\n",
    "\n",
    "test_images=sorted(list(glob( os.path.join(test_dir, '*.jpg') )))\n",
    "\n",
    "label_colors = {i: np.array(l.color) for i, l in enumerate(dp.label_defs)}"
   ]
  },
  {
   "cell_type": "code",
   "execution_count": null,
   "metadata": {
    "colab": {},
    "colab_type": "code",
    "hidden": true,
    "id": "vMwFn-XSBZcB"
   },
   "outputs": [],
   "source": [
    "from keras.models import load_model\n",
    "\n",
    "model = load_model('weights.39-0.56.hdf5')"
   ]
  },
  {
   "cell_type": "code",
   "execution_count": null,
   "metadata": {
    "colab": {},
    "colab_type": "code",
    "hidden": true,
    "id": "3dASrz92Q6xa"
   },
   "outputs": [],
   "source": [
    "test_images"
   ]
  },
  {
   "cell_type": "code",
   "execution_count": null,
   "metadata": {
    "colab": {},
    "colab_type": "code",
    "hidden": true,
    "id": "QZsudJJ9BjVR"
   },
   "outputs": [],
   "source": [
    "from skimage.transform import rescale, resize\n",
    "import skimage.io as io\n",
    "\n",
    "\n",
    "N=1000\n",
    "\n",
    "images = np.empty((N, *image_shape)) \n",
    "images_low_res = np.empty((N, \n",
    "                           image_shape[0] // 4, image_shape[1] // 4,\n",
    "                           3))\n",
    "\n",
    "masks = np.empty((N, *target_shape, 3)) \n",
    "\n",
    "\n",
    "for i in range(N):\n",
    "    print(i)\n",
    "    images[i] = resize(io.imread(test_images[i]), image_shape,\n",
    "                       mode='reflect')#, anti_aliasing=True)\n",
    "\n",
    "    images_low_res[i] = rescale(images[i], 1 / 4, mode='reflect')\n",
    "                               # multichannel=True, anti_aliasing=True) "
   ]
  },
  {
   "cell_type": "code",
   "execution_count": null,
   "metadata": {
    "colab": {},
    "colab_type": "code",
    "hidden": true,
    "id": "itjKtg-grRdC"
   },
   "outputs": [],
   "source": [
    "import time"
   ]
  },
  {
   "cell_type": "code",
   "execution_count": null,
   "metadata": {
    "colab": {},
    "colab_type": "code",
    "hidden": true,
    "id": "tZFqn0NfYUdV"
   },
   "outputs": [],
   "source": [
    "s_time = time.time()\n",
    "\n",
    "predicted = model.predict([images, images_low_res])\n",
    "\n",
    "e_time = time.time()\n",
    "print('Running time on {} images: {:3.3f}'.format(len(images),\n",
    "                                                  e_time - s_time))"
   ]
  },
  {
   "cell_type": "code",
   "execution_count": null,
   "metadata": {
    "colab": {},
    "colab_type": "code",
    "hidden": true,
    "id": "qEhUi22nwvEA"
   },
   "outputs": [],
   "source": [
    "print(f'FPS: {len(images) / (e_time - s_time): 3.3f}')"
   ]
  },
  {
   "cell_type": "code",
   "execution_count": null,
   "metadata": {
    "colab": {},
    "colab_type": "code",
    "hidden": true,
    "id": "YQAU9CPIYRPR"
   },
   "outputs": [],
   "source": [
    "for i in range(N):\n",
    "    labels = np.argmax(predicted[i], axis=-1)\n",
    "    labels = labels.reshape(target_shape)\n",
    "    labels_colored = np.zeros((*target_shape, 3)) \n",
    "                \n",
    "    for label, color in label_colors.items():\n",
    "        labels_colored[labels == label] = color\n",
    "    \n",
    "    final_out = resize(labels_colored, image_shape)\n",
    "    \n",
    "    basename = os.path.splitext(os.path.basename(test_images[i]))[0]\n",
    "    masks[i] = labels_colored\n",
    "    io.imsave(os.path.join(output_dir, basename + '.png'), final_out / 255)"
   ]
  },
  {
   "cell_type": "markdown",
   "metadata": {
    "colab_type": "text",
    "heading_collapsed": true,
    "id": "mIDgzYKlnLGj"
   },
   "source": [
    "## Analysis"
   ]
  },
  {
   "cell_type": "code",
   "execution_count": null,
   "metadata": {
    "ExecuteTime": {
     "end_time": "2019-08-03T14:46:55.552018Z",
     "start_time": "2019-08-03T14:46:54.681498Z"
    },
    "colab": {},
    "colab_type": "code",
    "hidden": true,
    "id": "UbTUj7p7a1qb"
   },
   "outputs": [],
   "source": [
    "nrows = len(label_defs)\n",
    "\n",
    "\n",
    "def plot_color_gradients(cmap_list, nrows):\n",
    "    fig, axes = plt.subplots(nrows=nrows, figsize=(10, 7))\n",
    "    fig.subplots_adjust(top=0.95, bottom=0.01, left=0.2, right=0.99)\n",
    "    axes[0].set_title('CIHP Colormap', fontsize=14, color='black')\n",
    "\n",
    "    for ax, label in zip(axes, cmap_list):\n",
    "        ax.imshow([[label.color]], aspect='auto', vmin=0, vmax=255)\n",
    "        pos = list(ax.get_position().bounds)\n",
    "        x_text = pos[0] - 0.01\n",
    "        y_text = pos[1] + pos[3]/2.\n",
    "        fig.text(x_text, y_text, label.name, \n",
    "                 va='center', ha='right', \n",
    "                 fontsize=12, color='black')\n",
    "\n",
    "    # Turn off *all* ticks & spines, not just the ones with colormaps.\n",
    "    for ax in axes:\n",
    "        ax.set_axis_off()\n",
    "\n",
    "\n",
    "plot_color_gradients(label_defs, nrows)\n",
    "plt.show()\n"
   ]
  },
  {
   "cell_type": "code",
   "execution_count": null,
   "metadata": {
    "colab": {},
    "colab_type": "code",
    "hidden": true,
    "id": "mkpokxHHrX1b"
   },
   "outputs": [],
   "source": [
    "classes = [0, 2, 7, 9, 13, 15, 19]\n",
    "N=len(test_images)\n",
    "\n",
    "fig, axes = plt.subplots(nrows=N, ncols=len(classes)+1, figsize=(22, 20))\n",
    "fig.subplots_adjust(top=0.95, bottom=0, left=0.1, right=0.99, wspace = 0.1, hspace = 0)\n",
    "\n",
    "\n",
    "for i in range(N):\n",
    "    axes[i][0].imshow(images[i])\n",
    "    if i == 0:\n",
    "        axes[i][0].text(0, -85,\n",
    "                    'Original',\n",
    "                    fontsize=21,\n",
    "                    color='black', va='top')\n",
    "\n",
    "    axes[i][0].set_axis_off()\n",
    "    for j, ax in enumerate(axes[i][1:]):\n",
    "        ax.imshow(predicted[i, :,:, classes[j]], cmap='viridis')\n",
    "        if i == 0:\n",
    "            ax.text(0, -10,\n",
    "                    dp.label_defs[classes[j]].name if classes[j] != 0 else 'Background',\n",
    "                    fontsize=21,\n",
    "                    color='black', va='top')\n",
    "        ax.set_axis_off()\n",
    "        \n",
    "plt.show()"
   ]
  }
 ],
 "metadata": {
  "accelerator": "GPU",
  "colab": {
   "collapsed_sections": [
    "t8hwARb7-st0",
    "mIDgzYKlnLGj"
   ],
   "name": "train.ipynb",
   "provenance": [],
   "version": "0.3.2"
  },
  "kernelspec": {
   "display_name": "Python [conda env:ar]",
   "language": "python",
   "name": "conda-env-ar-py"
  },
  "language_info": {
   "codemirror_mode": {
    "name": "ipython",
    "version": 3
   },
   "file_extension": ".py",
   "mimetype": "text/x-python",
   "name": "python",
   "nbconvert_exporter": "python",
   "pygments_lexer": "ipython3",
   "version": "3.7.3"
  },
  "toc": {
   "base_numbering": 1,
   "nav_menu": {},
   "number_sections": true,
   "sideBar": true,
   "skip_h1_title": false,
   "title_cell": "Table of Contents",
   "title_sidebar": "Contents",
   "toc_cell": false,
   "toc_position": {},
   "toc_section_display": true,
   "toc_window_display": false
  },
  "varInspector": {
   "cols": {
    "lenName": 16,
    "lenType": 16,
    "lenVar": 40
   },
   "kernels_config": {
    "python": {
     "delete_cmd_postfix": "",
     "delete_cmd_prefix": "del ",
     "library": "var_list.py",
     "varRefreshCmd": "print(var_dic_list())"
    },
    "r": {
     "delete_cmd_postfix": ") ",
     "delete_cmd_prefix": "rm(",
     "library": "var_list.r",
     "varRefreshCmd": "cat(var_dic_list()) "
    }
   },
   "types_to_exclude": [
    "module",
    "function",
    "builtin_function_or_method",
    "instance",
    "_Feature"
   ],
   "window_display": false
  }
 },
 "nbformat": 4,
 "nbformat_minor": 1
}
